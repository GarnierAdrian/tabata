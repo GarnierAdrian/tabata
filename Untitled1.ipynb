{
 "cells": [
  {
   "cell_type": "markdown",
   "metadata": {},
   "source": [
    "# Révision de Opset"
   ]
  },
  {
   "cell_type": "code",
   "execution_count": 2,
   "metadata": {},
   "outputs": [],
   "source": [
    "from importlib import reload\n",
    "\n",
    "import numpy as np\n",
    "import pandas as pd\n",
    "import tabata.opset as op"
   ]
  },
  {
   "cell_type": "code",
   "execution_count": 72,
   "metadata": {},
   "outputs": [
    {
     "data": {
      "text/plain": [
       "<module 'tabata.opset' from 'H:\\\\wrk\\\\_jlpath\\\\tabata\\\\opset.py'>"
      ]
     },
     "execution_count": 72,
     "metadata": {},
     "output_type": "execute_result"
    }
   ],
   "source": [
    "reload(op)"
   ]
  },
  {
   "cell_type": "code",
   "execution_count": 73,
   "metadata": {},
   "outputs": [],
   "source": [
    "filename = 'notebooks/data/out/AFL1EB_C.h5'\n",
    "S = op.Opset(filename)"
   ]
  },
  {
   "cell_type": "markdown",
   "metadata": {},
   "source": [
    "Découpage en deux."
   ]
  },
  {
   "cell_type": "code",
   "execution_count": 74,
   "metadata": {},
   "outputs": [
    {
     "data": {
      "text/plain": [
       "18"
      ]
     },
     "execution_count": 74,
     "metadata": {},
     "output_type": "execute_result"
    }
   ],
   "source": [
    "S[18]\n",
    "S.sigpos"
   ]
  },
  {
   "cell_type": "code",
   "execution_count": 79,
   "metadata": {},
   "outputs": [
    {
     "name": "stdout",
     "output_type": "stream",
     "text": [
      "record_01\n",
      "record_05\n",
      "record_03\n"
     ]
    }
   ],
   "source": [
    "for df in S[[1,5,3]]:\n",
    "    print(df.index.name)"
   ]
  },
  {
   "cell_type": "code",
   "execution_count": 80,
   "metadata": {},
   "outputs": [
    {
     "data": {
      "text/plain": [
       "1"
      ]
     },
     "execution_count": 80,
     "metadata": {},
     "output_type": "execute_result"
    }
   ],
   "source": [
    "S.sigpos"
   ]
  },
  {
   "cell_type": "code",
   "execution_count": 70,
   "metadata": {},
   "outputs": [
    {
     "name": "stdout",
     "output_type": "stream",
     "text": [
      "record_34\n",
      "record_35\n",
      "record_36\n",
      "record_37\n",
      "record_38\n",
      "record_39\n",
      "record_40\n",
      "record_41\n",
      "record_42\n",
      "record_43\n",
      "record_44\n",
      "record_45\n",
      "record_46\n",
      "record_47\n",
      "record_48\n",
      "record_49\n",
      "record_50\n",
      "record_51\n"
     ]
    }
   ],
   "source": [
    "for df in S.iterator(30,len(S.records)):\n",
    "    print(df.index.name)"
   ]
  },
  {
   "cell_type": "code",
   "execution_count": 6,
   "metadata": {},
   "outputs": [],
   "source": [
    "SA = op.Opset('notebooks/data/out/AFL1EB_CA.h5')\n",
    "SA.clean()\n",
    "for df in S.iterator(30):\n",
    "    SA.put(df)"
   ]
  },
  {
   "cell_type": "code",
   "execution_count": 7,
   "metadata": {},
   "outputs": [],
   "source": [
    "ST = op.Opset('notebooks/data/out/AFL1EB_CT.h5')\n",
    "ST.clean()\n",
    "for df in S.iterator(30,len(S.records)):\n",
    "    ST.put(df)"
   ]
  },
  {
   "cell_type": "code",
   "execution_count": 8,
   "metadata": {},
   "outputs": [
    {
     "name": "stdout",
     "output_type": "stream",
     "text": [
      "record_34\n",
      "record_35\n",
      "record_36\n",
      "record_37\n",
      "record_38\n",
      "record_39\n",
      "record_40\n",
      "record_41\n",
      "record_42\n",
      "record_43\n",
      "record_44\n",
      "record_45\n",
      "record_46\n",
      "record_47\n",
      "record_48\n",
      "record_49\n",
      "record_50\n",
      "record_51\n"
     ]
    }
   ],
   "source": [
    "for df in ST.iterator():\n",
    "    print(df.index.name)"
   ]
  },
  {
   "cell_type": "code",
   "execution_count": null,
   "metadata": {},
   "outputs": [],
   "source": []
  }
 ],
 "metadata": {
  "kernelspec": {
   "display_name": "Python 3",
   "language": "python",
   "name": "python3"
  },
  "language_info": {
   "codemirror_mode": {
    "name": "ipython",
    "version": 3
   },
   "file_extension": ".py",
   "mimetype": "text/x-python",
   "name": "python",
   "nbconvert_exporter": "python",
   "pygments_lexer": "ipython3",
   "version": "3.7.5"
  }
 },
 "nbformat": 4,
 "nbformat_minor": 4
}
