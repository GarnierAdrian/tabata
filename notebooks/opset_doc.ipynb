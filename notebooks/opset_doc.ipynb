{
 "cells": [
  {
   "cell_type": "markdown",
   "metadata": {},
   "source": [
    "# Gestion des listes de signaux stockés au format HDF5\n",
    "\n",
    "L'OPSET contient essentiellement une classe `Opset` permettant de manipuler et d'accéder facilement à des signaux stockés dans un fichier HDF5.\n",
    "\n",
    "Chaque signal est un pandas.DataFrame `df` dont le nom est tocké dans `df.index.name`.\n",
    "Ces noms sont indépendants des noms d'enregistrement dans le fichier mais il est préférable de conserver les mêmes.\n",
    "\n",
    "Il est préférable d'avoir stocké ainsi des signaux ayant les mêmes noms de colonnes. Les unités de chaque colonne si elles existent sont stockées entre crochets après le nom de la variable.\n",
    "\n",
    "Une telle liste sera appelée \"liste d'opérations\" ou OPSET."
   ]
  },
  {
   "cell_type": "code",
   "execution_count": 110,
   "metadata": {},
   "outputs": [],
   "source": [
    "from importlib import reload\n",
    "import numpy as np\n",
    "import pandas as pd\n",
    "import tabata.opset as op"
   ]
  },
  {
   "cell_type": "markdown",
   "metadata": {},
   "source": [
    "Je mets souvent une commande `reload` pour vérifier la mise au point de mes codes."
   ]
  },
  {
   "cell_type": "code",
   "execution_count": 111,
   "metadata": {},
   "outputs": [
    {
     "data": {
      "text/plain": [
       "<module 'tabata.opset' from 'H:\\\\wrk\\\\_jlpath\\\\tabata\\\\opset.py'>"
      ]
     },
     "execution_count": 111,
     "metadata": {},
     "output_type": "execute_result"
    }
   ],
   "source": [
    "reload(op)"
   ]
  },
  {
   "cell_type": "markdown",
   "metadata": {},
   "source": [
    "## 1/ Visualisation des données.\n",
    "\n",
    "La classe `Opset` permet d'accéder aux signaux, la méthode `plot()` offre une interface graphique sympatique pour naviguer au sein de la liste."
   ]
  },
  {
   "cell_type": "code",
   "execution_count": 112,
   "metadata": {},
   "outputs": [],
   "source": [
    "storename = \"data/in/AFL1EB.h5\"\n",
    "ds = op.Opset(storename)"
   ]
  },
  {
   "cell_type": "code",
   "execution_count": 113,
   "metadata": {},
   "outputs": [
    {
     "data": {
      "application/vnd.jupyter.widget-view+json": {
       "model_id": "553edd36851444d4b5ef80bc460b776c",
       "version_major": 2,
       "version_minor": 0
      },
      "text/plain": [
       "VBox(children=(HBox(children=(Dropdown(description='Variable :', options=('ALT[m]', 'Tisa[K]', 'TAS[m/s]', 'Vz…"
      ]
     },
     "metadata": {},
     "output_type": "display_data"
    }
   ],
   "source": [
    "ds.plot()"
   ]
  },
  {
   "cell_type": "code",
   "execution_count": 114,
   "metadata": {},
   "outputs": [
    {
     "data": {
      "text/plain": [
       "OPSET 'data/in/AFL1EB.h5' de 52 signaux.\n",
       "        position courante : sigpos  = 0\n",
       "        variable courante : colname = ALT[m]\n",
       "        phase surlignée   : phase   = None"
      ]
     },
     "execution_count": 114,
     "metadata": {},
     "output_type": "execute_result"
    }
   ],
   "source": [
    "ds"
   ]
  },
  {
   "cell_type": "markdown",
   "metadata": {},
   "source": [
    "Les données de ce jeu d'exemple représentent des mesures simulées de vols d'un avion.\n",
    "    \n",
    "* ALT[m] : l'altitude de l'avion en mètres.\n",
    "* Tisa[K] : la température standard en Kelvin.\n",
    "* TAS[m/s] : La vitesse air de l'avion (Total Air Speed) en mètre par seconde.\n",
    "* Vz[m/s] : la vitesse de montée en mètre par seconde.\n",
    "* Masse[kg] : la masse de l'avion en kilogramme.\n",
    "* F[N] : la poussée en Newton."
   ]
  },
  {
   "cell_type": "markdown",
   "metadata": {},
   "source": [
    "Remarquez que \n",
    "* les enregistrements 6, 7, 8 et 9 sont vides, en fait ce n'est que du bruit de capteur ;\n",
    "* les enregistrements 45 et 50 ont un problème d'horodatatage ;\n",
    "* l'enregistrement 10 présente un atterrissage raté."
   ]
  },
  {
   "cell_type": "markdown",
   "metadata": {},
   "source": [
    "L'enregistrement courant peut être récupéré facilement."
   ]
  },
  {
   "cell_type": "code",
   "execution_count": 115,
   "metadata": {},
   "outputs": [
    {
     "data": {
      "text/html": [
       "<div>\n",
       "<style scoped>\n",
       "    .dataframe tbody tr th:only-of-type {\n",
       "        vertical-align: middle;\n",
       "    }\n",
       "\n",
       "    .dataframe tbody tr th {\n",
       "        vertical-align: top;\n",
       "    }\n",
       "\n",
       "    .dataframe thead th {\n",
       "        text-align: right;\n",
       "    }\n",
       "</style>\n",
       "<table border=\"1\" class=\"dataframe\">\n",
       "  <thead>\n",
       "    <tr style=\"text-align: right;\">\n",
       "      <th></th>\n",
       "      <th>ALT[m]</th>\n",
       "      <th>Tisa[K]</th>\n",
       "      <th>TAS[m/s]</th>\n",
       "      <th>Vz[m/s]</th>\n",
       "      <th>Masse[kg]</th>\n",
       "      <th>F[N]</th>\n",
       "    </tr>\n",
       "    <tr>\n",
       "      <th>record_00</th>\n",
       "      <th></th>\n",
       "      <th></th>\n",
       "      <th></th>\n",
       "      <th></th>\n",
       "      <th></th>\n",
       "      <th></th>\n",
       "    </tr>\n",
       "  </thead>\n",
       "  <tbody>\n",
       "    <tr>\n",
       "      <th>2012-07-10 11:08:00</th>\n",
       "      <td>-1.267968</td>\n",
       "      <td>296.391008</td>\n",
       "      <td>0.0</td>\n",
       "      <td>0.017541</td>\n",
       "      <td>15217.558677</td>\n",
       "      <td>0.0</td>\n",
       "    </tr>\n",
       "    <tr>\n",
       "      <th>2012-07-10 11:08:01</th>\n",
       "      <td>-1.267968</td>\n",
       "      <td>296.391008</td>\n",
       "      <td>0.0</td>\n",
       "      <td>0.016004</td>\n",
       "      <td>15217.558677</td>\n",
       "      <td>0.0</td>\n",
       "    </tr>\n",
       "    <tr>\n",
       "      <th>2012-07-10 11:08:02</th>\n",
       "      <td>-1.267968</td>\n",
       "      <td>296.391008</td>\n",
       "      <td>0.0</td>\n",
       "      <td>0.014466</td>\n",
       "      <td>15217.558677</td>\n",
       "      <td>0.0</td>\n",
       "    </tr>\n",
       "    <tr>\n",
       "      <th>2012-07-10 11:08:03</th>\n",
       "      <td>-1.267968</td>\n",
       "      <td>296.391008</td>\n",
       "      <td>0.0</td>\n",
       "      <td>0.012929</td>\n",
       "      <td>15217.558677</td>\n",
       "      <td>0.0</td>\n",
       "    </tr>\n",
       "    <tr>\n",
       "      <th>2012-07-10 11:08:04</th>\n",
       "      <td>-1.267968</td>\n",
       "      <td>296.391008</td>\n",
       "      <td>0.0</td>\n",
       "      <td>0.011392</td>\n",
       "      <td>15217.558677</td>\n",
       "      <td>0.0</td>\n",
       "    </tr>\n",
       "    <tr>\n",
       "      <th>...</th>\n",
       "      <td>...</td>\n",
       "      <td>...</td>\n",
       "      <td>...</td>\n",
       "      <td>...</td>\n",
       "      <td>...</td>\n",
       "      <td>...</td>\n",
       "    </tr>\n",
       "    <tr>\n",
       "      <th>2012-07-10 13:11:44</th>\n",
       "      <td>49.450752</td>\n",
       "      <td>296.064959</td>\n",
       "      <td>0.0</td>\n",
       "      <td>-0.023152</td>\n",
       "      <td>13792.505334</td>\n",
       "      <td>0.0</td>\n",
       "    </tr>\n",
       "    <tr>\n",
       "      <th>2012-07-10 13:11:45</th>\n",
       "      <td>49.450752</td>\n",
       "      <td>296.064959</td>\n",
       "      <td>0.0</td>\n",
       "      <td>-0.026291</td>\n",
       "      <td>13792.505334</td>\n",
       "      <td>0.0</td>\n",
       "    </tr>\n",
       "    <tr>\n",
       "      <th>2012-07-10 13:11:46</th>\n",
       "      <td>49.450752</td>\n",
       "      <td>296.064959</td>\n",
       "      <td>0.0</td>\n",
       "      <td>-0.029430</td>\n",
       "      <td>13792.505334</td>\n",
       "      <td>0.0</td>\n",
       "    </tr>\n",
       "    <tr>\n",
       "      <th>2012-07-10 13:11:47</th>\n",
       "      <td>49.450752</td>\n",
       "      <td>296.064959</td>\n",
       "      <td>0.0</td>\n",
       "      <td>-0.032569</td>\n",
       "      <td>13792.505334</td>\n",
       "      <td>0.0</td>\n",
       "    </tr>\n",
       "    <tr>\n",
       "      <th>2012-07-10 13:11:48</th>\n",
       "      <td>49.450752</td>\n",
       "      <td>296.064959</td>\n",
       "      <td>0.0</td>\n",
       "      <td>-0.035708</td>\n",
       "      <td>13792.505334</td>\n",
       "      <td>0.0</td>\n",
       "    </tr>\n",
       "  </tbody>\n",
       "</table>\n",
       "<p>7429 rows × 6 columns</p>\n",
       "</div>"
      ],
      "text/plain": [
       "                        ALT[m]     Tisa[K]  TAS[m/s]   Vz[m/s]     Masse[kg]  \\\n",
       "record_00                                                                      \n",
       "2012-07-10 11:08:00  -1.267968  296.391008       0.0  0.017541  15217.558677   \n",
       "2012-07-10 11:08:01  -1.267968  296.391008       0.0  0.016004  15217.558677   \n",
       "2012-07-10 11:08:02  -1.267968  296.391008       0.0  0.014466  15217.558677   \n",
       "2012-07-10 11:08:03  -1.267968  296.391008       0.0  0.012929  15217.558677   \n",
       "2012-07-10 11:08:04  -1.267968  296.391008       0.0  0.011392  15217.558677   \n",
       "...                        ...         ...       ...       ...           ...   \n",
       "2012-07-10 13:11:44  49.450752  296.064959       0.0 -0.023152  13792.505334   \n",
       "2012-07-10 13:11:45  49.450752  296.064959       0.0 -0.026291  13792.505334   \n",
       "2012-07-10 13:11:46  49.450752  296.064959       0.0 -0.029430  13792.505334   \n",
       "2012-07-10 13:11:47  49.450752  296.064959       0.0 -0.032569  13792.505334   \n",
       "2012-07-10 13:11:48  49.450752  296.064959       0.0 -0.035708  13792.505334   \n",
       "\n",
       "                     F[N]  \n",
       "record_00                  \n",
       "2012-07-10 11:08:00   0.0  \n",
       "2012-07-10 11:08:01   0.0  \n",
       "2012-07-10 11:08:02   0.0  \n",
       "2012-07-10 11:08:03   0.0  \n",
       "2012-07-10 11:08:04   0.0  \n",
       "...                   ...  \n",
       "2012-07-10 13:11:44   0.0  \n",
       "2012-07-10 13:11:45   0.0  \n",
       "2012-07-10 13:11:46   0.0  \n",
       "2012-07-10 13:11:47   0.0  \n",
       "2012-07-10 13:11:48   0.0  \n",
       "\n",
       "[7429 rows x 6 columns]"
      ]
     },
     "execution_count": 115,
     "metadata": {},
     "output_type": "execute_result"
    }
   ],
   "source": [
    "ds.df"
   ]
  },
  {
   "cell_type": "markdown",
   "metadata": {},
   "source": [
    "Notez que le nom de l'enregistrement est stocké dans le nom de l'index du DataFrame. C'est une propriété qui est persistante quand on sauvegarde le DataFrame."
   ]
  },
  {
   "cell_type": "markdown",
   "metadata": {},
   "source": [
    "On peut directement demander l'affichage spécifique d'un des signaux."
   ]
  },
  {
   "cell_type": "code",
   "execution_count": 116,
   "metadata": {},
   "outputs": [
    {
     "data": {
      "application/vnd.jupyter.widget-view+json": {
       "model_id": "1a7c91da2ab7446285effe0a26c457c8",
       "version_major": 2,
       "version_minor": 0
      },
      "text/plain": [
       "VBox(children=(HBox(children=(Dropdown(description='Variable :', index=3, options=('ALT[m]', 'Tisa[K]', 'TAS[m…"
      ]
     },
     "metadata": {},
     "output_type": "display_data"
    }
   ],
   "source": [
    "ds.plot(pos=21,name=\"Vz[m/s]\")"
   ]
  },
  {
   "cell_type": "markdown",
   "metadata": {},
   "source": [
    "Cette demande peut aussi se faire dès l'instanciation."
   ]
  },
  {
   "cell_type": "code",
   "execution_count": 117,
   "metadata": {},
   "outputs": [
    {
     "data": {
      "application/vnd.jupyter.widget-view+json": {
       "model_id": "0a8075baca354219a15c6f3b958f00c5",
       "version_major": 2,
       "version_minor": 0
      },
      "text/plain": [
       "VBox(children=(HBox(children=(Dropdown(description='Variable :', index=2, options=('ALT[m]', 'Tisa[K]', 'TAS[m…"
      ]
     },
     "metadata": {},
     "output_type": "display_data"
    }
   ],
   "source": [
    "ds = op.Opset(storename,pos=5,name=\"TAS[m/s]\")\n",
    "ds.plot()"
   ]
  },
  {
   "cell_type": "markdown",
   "metadata": {},
   "source": [
    "## 2/ Itérations\n",
    "Il est possible d'itérer sur la liste de signaux.\n",
    "\n",
    "L'itération met à jour le signal courant du sélecteur."
   ]
  },
  {
   "cell_type": "code",
   "execution_count": 118,
   "metadata": {},
   "outputs": [
    {
     "name": "stdout",
     "output_type": "stream",
     "text": [
      " 0 : record_00  --> 2012-07-10 11:08:00\n",
      " 1 : record_01  --> 2012-07-10 14:10:00\n",
      " 2 : record_02  --> 2012-07-27 03:40:00\n",
      "Boucle n°0 : record_02\n",
      " 0 : record_03  --> 2012-07-27 06:34:00\n",
      " 1 : record_04  --> 2012-08-03 01:24:00\n",
      "Boucle n°1 : record_04\n",
      " 0 : record_03   --> 2012-07-27 06:34:00\n",
      " 1 : record_04   --> 2012-08-03 01:24:00\n",
      " 2 : record_05   --> 2012-08-03 03:25:00\n",
      " 3 : record_06   --> 2012-12-28 09:31:00\n",
      " 4 : record_07   --> 2013-01-05 06:26:00\n",
      " 5 : record_08   --> 2013-01-05 09:43:00\n",
      "Boucle n°2 : record_08\n",
      " 0 : record_01   --> 2012-07-10 14:10:00\n",
      " 1 : record_11   --> 2013-01-19 20:25:00\n",
      " 2 : record_23   --> 2013-02-07 14:02:00\n",
      "Boucle n°3 : record_23\n"
     ]
    }
   ],
   "source": [
    "n=0\n",
    "for df in ds.iterator(3):\n",
    "    t0 = df.index[0]\n",
    "    print(\"{:2d} : {:10s} --> {}\".format(n,df.index.name,t0))\n",
    "    n = n+1\n",
    "    \n",
    "print('Boucle n°0 :',ds.df.index.name)\n",
    "\n",
    "n=0\n",
    "for df in ds.iterator(3,5):\n",
    "    t0 = df.index[0]\n",
    "    print(\"{:2d} : {:10s} --> {}\".format(n,df.index.name,t0))\n",
    "    n = n+1\n",
    "    \n",
    "print('Boucle n°1 :',ds.df.index.name)\n",
    "\n",
    "n=0\n",
    "for df in ds.iterator(3,9):\n",
    "    t0 = df.index[0]\n",
    "    print(\"{:2d} : {:10s}  --> {}\".format(n,df.index.name,t0))\n",
    "    n = n+1\n",
    "    \n",
    "print('Boucle n°2 :',ds.df.index.name)\n",
    "\n",
    "n=0\n",
    "for df in ds.iterator([1, 11, 23]):\n",
    "    t0 = df.index[0]\n",
    "    print(\"{:2d} : {:10s}  --> {}\".format(n,df.index.name,t0))\n",
    "    n = n+1\n",
    "    \n",
    "print('Boucle n°3 :',ds.df.index.name)"
   ]
  },
  {
   "cell_type": "markdown",
   "metadata": {},
   "source": [
    "## 3/ Création d'un nouvel Opset\n",
    "À partir d'une première liste d'opérations il est possible d'en créer une nouvelle assez facilement à l'aide de l'objet `Opset`.\n",
    "\n",
    "Dans notre exemple on a vu qu'il existe des vols mal enregistrés, on va les supprimer, par ailleurs il y a un problème de changement de date qui a abimé l'index temporel (à la seconde ici) ce que l'on va corriger en créant un jeu de données propres."
   ]
  },
  {
   "cell_type": "markdown",
   "metadata": {},
   "source": [
    "La méthode `put(df,record)` permet une modification rapide d'un enregistrement. Par défaut, si aucun nom d'enregistrement n'est donné en second paramètre, on regarde si `df.index.name` existe. De façon équivalente, si l'index n'est pas nommé mais qu'un nom d'enregistrement sera passé, la fonction `put(df,record)` rajoutera le nom d'index. \n",
    "\n",
    "La méthode `clean()` permet d'effacer le fichier avant de recommencer une écriture."
   ]
  },
  {
   "cell_type": "code",
   "execution_count": 119,
   "metadata": {},
   "outputs": [],
   "source": [
    "# Construction d'un hdf5set sans données anormales.\n",
    "cleanstore = \"data/out/AFL1EB_C.h5\"\n",
    "dsc = op.Opset(cleanstore)\n",
    "dsc.clean() # Au cas où le fichier existerait déjà.\n",
    "\n",
    "for df in ds.iterator():\n",
    "    if max(df[\"F[N]\"])>0: # Les données ont été bien enregistrées.\n",
    "        x = df.index\n",
    "        t = (x-x[0]).total_seconds()\n",
    "        dt = np.diff(t)\n",
    "        i = np.argwhere(dt != dt[1]) # on détecte un problème.\n",
    "        if len(i)>0:\n",
    "            name = df.index.name\n",
    "            df.index = pd.date_range(x[0],periods=len(df),freq=x[1]-x[0]) # détruit le nom\n",
    "            df.index.name = name # Ne pas oublier de récupérer le nom.\n",
    "            dsc.put(df) # Ici on aurait pu mettre name."
   ]
  },
  {
   "cell_type": "markdown",
   "metadata": {},
   "source": [
    "La fonction `current_record()` est un racourci pour obtenir le nom de l'enregistrement courant.\n",
    "Dans une itération, vu que l'enregistrement courant est celui qui est renvoyé, si on ne précise pas de nouveau nom d'enregistrement, c'est l'enregistrement courant qui est modifié par `put()` dans l'exemple donné."
   ]
  },
  {
   "cell_type": "code",
   "execution_count": 120,
   "metadata": {},
   "outputs": [
    {
     "name": "stdout",
     "output_type": "stream",
     "text": [
      "/record_00 : record_00\n",
      "/record_01 : record_01\n",
      "/record_02 : record_02\n",
      "/record_03 : record_03\n"
     ]
    }
   ],
   "source": [
    "for df in dsc.iterator(4):\n",
    "    print(dsc.current_record(), ':', df.index.name)"
   ]
  },
  {
   "cell_type": "markdown",
   "metadata": {},
   "source": [
    "La méthode `rewind()` est un raccourci pour remettre le pointeur au début du fichier."
   ]
  },
  {
   "cell_type": "code",
   "execution_count": 121,
   "metadata": {},
   "outputs": [
    {
     "name": "stdout",
     "output_type": "stream",
     "text": [
      "/record_00 : record_00\n"
     ]
    }
   ],
   "source": [
    "dsc.rewind()\n",
    "print(dsc.current_record(), ':', dsc.df.index.name)"
   ]
  },
  {
   "cell_type": "markdown",
   "metadata": {},
   "source": [
    "### Modification de l'Opset\n",
    "\n",
    "Une fonction intéressante de la méthode `plot()` est la possibilité d'afficher en surimpression une partie du signal. Pour cela il suffit de rajouter une variable booléenne aux signaux qui indique quelles partie du signal identifier.\n",
    "\n",
    "Dans cet exemple nous essayons d'extraire la croisière."
   ]
  },
  {
   "cell_type": "code",
   "execution_count": 122,
   "metadata": {},
   "outputs": [],
   "source": [
    "for df in dsc.iterator():\n",
    "    mx = max(df[\"ALT[m]\"])\n",
    "    df[\"CR\"] = (df[\"ALT[m]\"]>mx-2000) & (abs(df[\"Vz[m/s]\"])<1)\n",
    "    dsc.put(df)"
   ]
  },
  {
   "cell_type": "code",
   "execution_count": 123,
   "metadata": {},
   "outputs": [
    {
     "data": {
      "application/vnd.jupyter.widget-view+json": {
       "model_id": "b3d40e0659cd4f039b4f8c8503d77a6b",
       "version_major": 2,
       "version_minor": 0
      },
      "text/plain": [
       "VBox(children=(HBox(children=(Dropdown(description='Variable :', options=('ALT[m]', 'Tisa[K]', 'TAS[m/s]', 'Vz…"
      ]
     },
     "metadata": {},
     "output_type": "display_data"
    }
   ],
   "source": [
    "dsc.rewind().plot(\"CR\")"
   ]
  },
  {
   "cell_type": "code",
   "execution_count": 124,
   "metadata": {},
   "outputs": [
    {
     "data": {
      "text/plain": [
       "OPSET 'data/out/AFL1EB_C.h5' de 48 signaux.\n",
       "        position courante : sigpos  = 0\n",
       "        variable courante : colname = ALT[m]\n",
       "        phase surlignée   : phase   = CR"
      ]
     },
     "execution_count": 124,
     "metadata": {},
     "output_type": "execute_result"
    }
   ],
   "source": [
    "dsc"
   ]
  },
  {
   "cell_type": "markdown",
   "metadata": {},
   "source": [
    "### Quelques éléments techniques de la méthode `plot()`.\n",
    "\n",
    "#### Gestion des signaux multivariés\n",
    "La classe `Opset` permet de gérer des données stockées sous la forme d'une liste d'observations temporelles. Chaque observation est un signal multivarié indexé par le temps. Cette liste doit être stockée dans un fichier au format HDF5 où chaque enregistrement est une observations.\n",
    "\n",
    "* Les observations sont lues dans l'ordre initial de stockage par un itérateur créé par la méthode `iterator()`.\n",
    "* Chaque signal (observation) est synchrones : toutes les colonnes ont la même longuer et le signal est stocké sous la forme d'un DataFrame pandas (`df`).\n",
    "* Le nom du signal est stocké dans le nom de l'index (`df.index.name`), ce qui permet de nommer les enregistrements indépendamment de leur nom. (Il se trouve que ce nom est persistant à la sauvegarde HDF5.)\n",
    "* Le nom de chaque colonne correspond au nom de la variable suivi entre crochets de son unité.\n",
    "\n",
    "#### Affichage des données.\n",
    "La méthode `plot()` sert à afficher les données de manière interactive à l'aide de Plotly au sein d'un notebook Python. Pour cela l'import du package hdf5set exécute la fonction `init_notebook_mode` de Plotly permettant d'interagir au sein du notebook à l'aide de la fonction `iplot()` ou directement par le renderer de base de Jupyter.\n",
    "\n",
    "Pour naviguer entre les signaux, l'Opset utilise des gadgets (boutons, scrollbar, menu) pour passer d'un enregistrement à un autre. Ces gadgets sont issus du packae ipywidgets qui est compatible avec Plotly. Le code de la méthode `plot()` est un exemple assez parlant de l'exploitation de gadgets interactifs au sein d'un notebook Jupyter.\n",
    "\n",
    "* Un menu permet de sélectionner une colonne à afficher.\n",
    "* Deux boutons (Previous et Next) passent d'un signal au suivant dans l'ordre des enregistrements.\n",
    "* Une scrollbar verticale sur la droite rappelle l'enregistrement en cours de visualisation et permet aussi de se déplacer aléatoirement entre les enregistrements.\n",
    "\n",
    "##### Point technique\n",
    "La méthode `plot()` appelle une méthode intermédiaire : `make_figure()` qui génère les composants de la figure et la fonction d'interactivité du callback. Cette technique permettra de facilité la dérivation de classes spécifiques et la possibilité de reconstruire des représentations graphiques adaptées (voir Instants).\n",
    "\n",
    "#### Variables locales\n",
    "La liste ordonnée des enregistrements est sauvegardée dans une variables `.records`, le signal en cours d'affichage est stocké dans `.sigpos` (en commençant par le n°1), et le nom de la variable à afficher est conservé dans `.colname`.\n",
    "\n",
    "#### Fonctionnement de l'interactivité\n",
    "L'interactivité est donnée par l'appel\n",
    "\n",
    "    out = widgets.interactive(update_plot, colname=wd, sigpos=ws)\n",
    "  \n",
    "`wd` est un pointeur vers le menu Dropdown contenat la liste des variables du signal en cours d'affichage et `ws` un pointeur vers la scrollbar.\n",
    "\n",
    "       wd = widgets.Dropdown(options=df.columns, \n",
    "                             description=\"Variable :\")\n",
    "       ws = widgets.IntSlider(value=1, min=1, max=nbmax, step=-1,\n",
    "                              orientation='vertical',\n",
    "                              description='Record',\n",
    "                              layout=widgets.Layout(height='400px'))\n",
    "                               \n",
    "Cette dernière est en mode 'vertical' et sa hauteur est fixée à 400 pixels. Le nombre maximum d'enregistrements a été stocké dans la variable `nbmax`. La fonction `interactive` lie le contenu des gadgets au variables locales `colanme` et `sigpos`qui sont passées à la fonction locale `update_plot()` qui fait le travail d'affichage en mettant à jour les éléments définis par le premier affichage initila à l'apple de `.plot()`.\n",
    "\n",
    "Si la scrollbar apparait sur la droite de l'affichage c'est parce que l'on a juxtaposé deux HBox dans une VBox que l'on revoie comme retour de `.plot()` :\n",
    "\n",
    "        boxes = widgets.VBox([widgets.HBox([wd, wbp, wbn]), \n",
    "                              widgets.HBox([f, ws])])\n",
    "        return boxes\n",
    "\n",
    "La première HBox contient le menu et les deux boutons, et juste en dessous nous plaçons une seconde Hbox qui contient d'abbord la dfigure `f` créée initialement et à sa droite la scrollbar verticale.\n",
    "\n",
    "    f = go.FigureWidget(data, layout)\n",
    "    \n",
    "L'interaction des boutons est assez simple : on le lie à une fonction callback locale `wb_on_click()` que l'on associe à chaque widget par l'appel de `.on_click()`. En fait cette fonction se contente de modifier la valeur de la scrollbar ce qui entrainera automatiquement par interactivité une modification de l'afficahe comme si on avait directement cliqué sur la scrollbar.\n",
    "\n",
    "#### Mise en évidence d'une partie des données\n",
    "Le Selector bénéficie de deux fonction d'affichage supplémentaire. La première consiste à mettre en évidence par un coloriage en rouge une partie du signal.\n",
    "Pour cela il faut qu'une variable booléenne soit présente dans le signal multivarié comme une colonne particulière. Le nom de cette variable peut être passé en argument `phase`de `plot(phase)` et les points 'True' de cette 'phase' seront affichés en rouge."
   ]
  },
  {
   "cell_type": "markdown",
   "metadata": {},
   "source": [
    "## 4/ Affichage simplifié des DataFrames\n",
    "Deux fonction simplifient l'affichage d'un opset.\n",
    "\n",
    "* `selplot(df,[variable])`affiche un DataFrame variable par variable.\n",
    "* `byunitplot(df,[yunit],[xunit],[title])` affiche le DataFrame en sélectionnant les variables, unité par unité sur le même graphe."
   ]
  },
  {
   "cell_type": "code",
   "execution_count": 125,
   "metadata": {},
   "outputs": [],
   "source": [
    "df = dsc.df"
   ]
  },
  {
   "cell_type": "markdown",
   "metadata": {},
   "source": [
    "Affichage des courbes une à une.\n",
    "On peut préciser une partie du nom de la variable."
   ]
  },
  {
   "cell_type": "code",
   "execution_count": 126,
   "metadata": {},
   "outputs": [
    {
     "data": {
      "application/vnd.jupyter.widget-view+json": {
       "model_id": "e4d3686155fc44a58d4f5cdd0118c384",
       "version_major": 2,
       "version_minor": 0
      },
      "text/plain": [
       "interactive(children=(Dropdown(description='Variable :', index=3, options=('ALT[m]', 'Tisa[K]', 'TAS[m/s]', 'V…"
      ]
     },
     "metadata": {},
     "output_type": "display_data"
    }
   ],
   "source": [
    "op.selplot(df,\"V\")"
   ]
  },
  {
   "cell_type": "markdown",
   "metadata": {},
   "source": [
    "Affichage des courbes par unité."
   ]
  },
  {
   "cell_type": "code",
   "execution_count": 127,
   "metadata": {},
   "outputs": [
    {
     "data": {
      "application/vnd.jupyter.widget-view+json": {
       "model_id": "23367f1d616e463d9d5c09a4512bf8dd",
       "version_major": 2,
       "version_minor": 0
      },
      "text/plain": [
       "VBox(children=(HBox(children=(Dropdown(description='Unité :', index=2, layout=Layout(width='30%'), options=('m…"
      ]
     },
     "metadata": {},
     "output_type": "display_data"
    }
   ],
   "source": [
    "op.byunitplot(df,'m/s')"
   ]
  },
  {
   "cell_type": "markdown",
   "metadata": {},
   "source": [
    "_Jérôme Lacaille (YOR)_"
   ]
  }
 ],
 "metadata": {
  "kernelspec": {
   "display_name": "Python 3",
   "language": "python",
   "name": "python3"
  },
  "language_info": {
   "codemirror_mode": {
    "name": "ipython",
    "version": 3
   },
   "file_extension": ".py",
   "mimetype": "text/x-python",
   "name": "python",
   "nbconvert_exporter": "python",
   "pygments_lexer": "ipython3",
   "version": "3.7.5"
  }
 },
 "nbformat": 4,
 "nbformat_minor": 4
}
