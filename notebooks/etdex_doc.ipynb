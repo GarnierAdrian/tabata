{
 "cells": [
  {
   "cell_type": "markdown",
   "metadata": {},
   "source": [
    "# Package samanta.etdex\n",
    "Le package etdex dispose de fonctions permettant de manpuler des fichiers ETDEX issus d'extractions de la base MOISE. Pour l'instant seuls les fichiers transitoires sont traités."
   ]
  },
  {
   "cell_type": "code",
   "execution_count": 4,
   "metadata": {},
   "outputs": [],
   "source": [
    "# from importlib import reload\n",
    "import os\n",
    "from tabata import etdex"
   ]
  },
  {
   "cell_type": "markdown",
   "metadata": {},
   "source": [
    "Je mets souvent une commande reload pour vérifier la mise au point de mes codes."
   ]
  },
  {
   "cell_type": "code",
   "execution_count": 5,
   "metadata": {},
   "outputs": [],
   "source": [
    "%reload_ext autoreload\n",
    "%autoreload 2"
   ]
  },
  {
   "cell_type": "markdown",
   "metadata": {},
   "source": [
    "## L'objet Etdex\n",
    "L'objet etdex est créé à aprtir d'un fichier ETDEX : couple .xml et .dat.\n",
    "Il contient des informations sur l'enregistrement. La création de l'objet observe le contenu, vérifie la syntaxe du fichier XML et du fichier binaire DAT mais ne charge pas les données."
   ]
  },
  {
   "cell_type": "code",
   "execution_count": 6,
   "metadata": {},
   "outputs": [
    {
     "name": "stdout",
     "output_type": "stream",
     "text": [
      "Etdex(H:\\/wrk/bancs/data/sam146/BPOL_OATB__TR__DEV__d20070601_h121558__100.xml) - big-endian\n",
      "    Banc POL_OATB test le 2007-05-30 13:52:03 de 27.249 secondes\n",
      "    SaM146 Moteur 003 Montage 001\n",
      "    2715 mesures, fréquence 100 Hz, 5 variables.\n"
     ]
    }
   ],
   "source": [
    "dirname = os.path.expanduser('~/wrk/bancs/data')\n",
    "filename = os.path.expanduser(\"~/wrk/bancs/data/sam146/BPOL_OATB__TR__DEV__d20070601_h121558__100.xml\")\n",
    "e = etdex.Etdex(filename)\n",
    "print(e)"
   ]
  },
  {
   "cell_type": "markdown",
   "metadata": {},
   "source": [
    "L'objet contient un certain nombre d'informations."
   ]
  },
  {
   "cell_type": "code",
   "execution_count": 7,
   "metadata": {},
   "outputs": [
    {
     "name": "stdout",
     "output_type": "stream",
     "text": [
      "H:\\/wrk/bancs/data/sam146/BPOL_OATB__TR__DEV__d20070601_h121558__100.xml\n",
      "H:\\/wrk/bancs/data/sam146\\BPOL_OATB__TR__DEV__d20070601_h121558__100.dat\n",
      "banc    : POL_OATB\n",
      "moteur  : SaM146\n",
      "numero  : 003\n",
      "montage : 001\n",
      "date    : 2007-05-30 13:52:03\n",
      "start   : 2007-06-01 12:15:58\n",
      "end     : 2007-06-01 12:16:25\n",
      "duree   : 27.249\n",
      "freq    : 100\n",
      "sfreq)  : 100 Hz\n",
      "span    : 10L\n"
     ]
    }
   ],
   "source": [
    "print(e.filename)\n",
    "print(e.datfile)                 # Le fichierbinaire associé.\n",
    "print(\"banc    :\", e.banc)\n",
    "print(\"moteur  :\", e.moteur)\n",
    "print(\"numero  :\", e.numero)\n",
    "print(\"montage :\", e.montage)\n",
    "print(\"date    :\", e.date)       # La date de l'essai.\n",
    "print(\"start   :\", e.start)      # Le début de l'enregistrement.\n",
    "print(\"end     :\", e.end)        # La fin de l'enregistrement.\n",
    "print(\"duree   :\", e.duree)\n",
    "print(\"freq    :\", e.freq)       # La fréquence en Hz\n",
    "print(\"sfreq)  :\", e.sfreq)      # La fréquence représentée en string\n",
    "print(\"span    :\", e.span)       # L'écart inter mesures (compatible pandas)"
   ]
  },
  {
   "cell_type": "markdown",
   "metadata": {},
   "source": [
    "Les labels des mesures observées sont aussi disponibles ainsi que l'index temporel. Une liste (columns) contient les noms des labels conaténés avec leurs unités entre crochets."
   ]
  },
  {
   "cell_type": "code",
   "execution_count": 8,
   "metadata": {},
   "outputs": [
    {
     "name": "stdout",
     "output_type": "stream",
     "text": [
      "DatetimeIndex([       '2007-06-01 12:15:58', '2007-06-01 12:15:58.010000',\n",
      "               '2007-06-01 12:15:58.020000', '2007-06-01 12:15:58.030000',\n",
      "               '2007-06-01 12:15:58.040000', '2007-06-01 12:15:58.050000',\n",
      "               '2007-06-01 12:15:58.060000', '2007-06-01 12:15:58.070000',\n",
      "               '2007-06-01 12:15:58.080000', '2007-06-01 12:15:58.090000',\n",
      "               ...\n",
      "               '2007-06-01 12:16:25.050000', '2007-06-01 12:16:25.060000',\n",
      "               '2007-06-01 12:16:25.070000', '2007-06-01 12:16:25.080000',\n",
      "               '2007-06-01 12:16:25.090000', '2007-06-01 12:16:25.100000',\n",
      "               '2007-06-01 12:16:25.110000', '2007-06-01 12:16:25.120000',\n",
      "               '2007-06-01 12:16:25.130000', '2007-06-01 12:16:25.140000'],\n",
      "              dtype='datetime64[ns]', name='BPOL_OATB__TR__DEV__d20070601_h121558__100', length=2715, freq='10L')\n",
      "names   : ['TIMEST9999', 'PLC_FUEL00', 'PFLPFPO', 'PFLPFPI', 'PFHPFPI']\n",
      "units   : ['s', '-', 'bar r', 'bar r', 'bar r']\n",
      "columns : ['TIMEST9999[s]', 'PLC_FUEL00[-]', 'PFLPFPO[bar r]', 'PFLPFPI[bar r]', 'PFHPFPI[bar r]']\n"
     ]
    }
   ],
   "source": [
    "print(e.index)\n",
    "print(\"names   :\", e.names)\n",
    "print(\"units   :\", e.units)\n",
    "print(\"columns :\", e.columns)"
   ]
  },
  {
   "cell_type": "markdown",
   "metadata": {},
   "source": [
    "### La méthode data()\n",
    "Cette méthode récupère le contenu du fichier binaire est le stocke dans un dataframe."
   ]
  },
  {
   "cell_type": "code",
   "execution_count": 9,
   "metadata": {},
   "outputs": [
    {
     "name": "stdout",
     "output_type": "stream",
     "text": [
      "<class 'pandas.core.frame.DataFrame'>\n",
      "df.shape = (2715, 5)\n"
     ]
    }
   ],
   "source": [
    "df = e.data()\n",
    "print(type(df))\n",
    "print(\"df.shape =\", df.shape)"
   ]
  },
  {
   "cell_type": "markdown",
   "metadata": {},
   "source": [
    "Le nom du ficheir initial est sauvegardé dans le champ name de l'index du DataFrame."
   ]
  },
  {
   "cell_type": "code",
   "execution_count": 10,
   "metadata": {},
   "outputs": [
    {
     "data": {
      "text/plain": [
       "'BPOL_OATB__TR__DEV__d20070601_h121558__100'"
      ]
     },
     "execution_count": 10,
     "metadata": {},
     "output_type": "execute_result"
    }
   ],
   "source": [
    "df.index.name"
   ]
  },
  {
   "cell_type": "code",
   "execution_count": 11,
   "metadata": {},
   "outputs": [
    {
     "data": {
      "image/png": "[encoded data removed]",
      "text/plain": [
       "<Figure size 432x288 with 1 Axes>"
      ]
     },
     "metadata": {
      "needs_background": "light"
     },
     "output_type": "display_data"
    }
   ],
   "source": [
    "import matplotlib.pyplot as plt\n",
    "%matplotlib inline\n",
    "df.plot(y='PLC_FUEL00[-]',title=df.index.name) ;"
   ]
  },
  {
   "cell_type": "code",
   "execution_count": 12,
   "metadata": {},
   "outputs": [
    {
     "data": {
      "text/plain": [
       "['PLC_FUEL00[-]']"
      ]
     },
     "execution_count": 12,
     "metadata": {},
     "output_type": "execute_result"
    }
   ],
   "source": [
    "cols = list(df.columns)\n",
    "[i for i in cols if 'FUEL' in i]"
   ]
  },
  {
   "cell_type": "markdown",
   "metadata": {},
   "source": [
    "## Répertoires de fichiers ETDEX\n",
    "Deux fonctions permettent de travailler sur des listes de fichiers ETDEX stockés dans un même répertoire. La première renvoie le nombre de transitoires (nombre de fichiers .dat) et la seconde est un itérateur."
   ]
  },
  {
   "cell_type": "markdown",
   "metadata": {},
   "source": [
    "### Fonction nbtransient()\n",
    "Comptabilise le nombre de fichiers .dat."
   ]
  },
  {
   "cell_type": "code",
   "execution_count": 14,
   "metadata": {},
   "outputs": [
    {
     "data": {
      "text/plain": [
       "543"
      ]
     },
     "execution_count": 14,
     "metadata": {},
     "output_type": "execute_result"
    }
   ],
   "source": [
    "samdirname = os.path.join(dirname,'sam146')\n",
    "etdex.nbtransient(samdirname)"
   ]
  },
  {
   "cell_type": "markdown",
   "metadata": {},
   "source": [
    "### Itérateur iterator()\n",
    "Un itérateur sur les fichiers ETDEX du répertoire passé en argument.\n",
    "Un second argument optionnel permet de n'itérer que sur les premiers fichiers (utile pour les tests)."
   ]
  },
  {
   "cell_type": "code",
   "execution_count": 15,
   "metadata": {},
   "outputs": [
    {
     "name": "stdout",
     "output_type": "stream",
     "text": [
      "H:\\/wrk/bancs/data\\sam146\\BCIAM_C1A__TR__DEV__d20070907_h124025__17.xml\n",
      "H:\\/wrk/bancs/data\\sam146\\BPOL_OATB__TR__DEV__d20070601_h121558__100.xml\n",
      "H:\\/wrk/bancs/data\\sam146\\BPOL_OATB__TR__DEV__d20070601_h124523__100.xml\n"
     ]
    }
   ],
   "source": [
    "for e in etdex.iterator(samdirname,nbmax=3):\n",
    "    print(e.filename)"
   ]
  },
  {
   "cell_type": "markdown",
   "metadata": {},
   "source": [
    "### Itérateur dataiterator()\n",
    "Cet itérateur renvoie directement des DataFrames pandas."
   ]
  },
  {
   "cell_type": "code",
   "execution_count": 16,
   "metadata": {},
   "outputs": [
    {
     "name": "stdout",
     "output_type": "stream",
     "text": [
      "BCIAM_C1A__TR__DEV__d20070907_h124025__17 (4951, 23)\n",
      "BPOL_OATB__TR__DEV__d20070601_h121558__100 (2715, 5)\n",
      "BPOL_OATB__TR__DEV__d20070601_h124523__100 (4928, 5)\n"
     ]
    }
   ],
   "source": [
    "for df in etdex.dataiterator(samdirname,nbmax=3):\n",
    "    print(df.index.name, df.shape)"
   ]
  },
  {
   "cell_type": "markdown",
   "metadata": {},
   "source": [
    "## Fonction de conversion HDF5\n",
    "Deux fonctions transfèrent les données d'un répertoire de fichiers ETDEX vers le format HDF5.\n",
    "* to_hdf5() copie les DataFrame tels quels dans un HDFStore.\n",
    "* banalise() transforme les fichiers avant de créer le HDFStore pour autoriser une distribution de données banalisées."
   ]
  },
  {
   "cell_type": "markdown",
   "metadata": {},
   "source": [
    "### Fonction to_hdf5()\n",
    "Les données d'un répertoire ETDEX sont stockées dans un HDFStore. Chaque enregistrement est stocké suivant le nom du fichier ETDEX. La fonction renvoie le nombre d'enregistrements stockés.\n",
    "\n",
    "* Le premier argument (dirname) est le nom du répertoire de fichiers ETDEX.\n",
    "* Le second argument (storename) est le nom (chemin complet) du fichiers HDF5 de stockage.\n",
    "* Un troisième argument optionnel (nbmax) permet de limiter le nombre d'enregistrements à sauvegarder.\n",
    "\n",
    "Nécessite les packages \"pandas\" et \"tables\"."
   ]
  },
  {
   "cell_type": "code",
   "execution_count": 17,
   "metadata": {},
   "outputs": [],
   "source": [
    "storename = os.path.normpath(os.path.join(dirname,'../extract/extrait.h5'))\n",
    "nb = etdex.to_hdf5(samdirname,storename,nbmax=5)"
   ]
  },
  {
   "cell_type": "code",
   "execution_count": 18,
   "metadata": {},
   "outputs": [
    {
     "data": {
      "text/plain": [
       "5"
      ]
     },
     "execution_count": 18,
     "metadata": {},
     "output_type": "execute_result"
    }
   ],
   "source": [
    "nb"
   ]
  },
  {
   "cell_type": "code",
   "execution_count": 19,
   "metadata": {},
   "outputs": [
    {
     "data": {
      "text/plain": [
       "'H:\\\\wrk\\\\bancs\\\\extract'"
      ]
     },
     "execution_count": 19,
     "metadata": {},
     "output_type": "execute_result"
    }
   ],
   "source": [
    "storedir = os.path.dirname(storename)\n",
    "storedir"
   ]
  },
  {
   "cell_type": "code",
   "execution_count": 20,
   "metadata": {
    "scrolled": true
   },
   "outputs": [
    {
     "name": "stdout",
     "output_type": "stream",
     "text": [
      " Le volume dans le lecteur H s'appelle Windows\n",
      " Le num‚ro de s‚rie du volume est 084B-F5B9\n",
      "\n",
      " R‚pertoire de H:\\wrk\\bancs\\extract\n",
      "\n",
      "02/02/2020  20:18    <DIR>          .\n",
      "02/02/2020  20:18    <DIR>          ..\n",
      "06/11/2019  11:11             5ÿ724 alias.txt\n",
      "03/02/2020  12:08         1ÿ271ÿ880 banal.h5\n",
      "03/02/2020  12:08             7ÿ174 banal.log\n",
      "06/10/2020  14:04         1ÿ340ÿ528 extrait.h5\n",
      "02/02/2020  20:10    <DIR>          old\n",
      "               4 fichier(s)        2ÿ625ÿ306 octets\n",
      "               3 R‚p(s)  63ÿ215ÿ419ÿ392 octets libres\n"
     ]
    }
   ],
   "source": [
    "!dir H:\\wrk\\bancs\\extract"
   ]
  },
  {
   "cell_type": "markdown",
   "metadata": {},
   "source": [
    "_Jérôme Lacaille (YXE)_"
   ]
  }
 ],
 "metadata": {
  "kernelspec": {
   "display_name": "Python 3",
   "language": "python",
   "name": "python3"
  },
  "language_info": {
   "codemirror_mode": {
    "name": "ipython",
    "version": 3
   },
   "file_extension": ".py",
   "mimetype": "text/x-python",
   "name": "python",
   "nbconvert_exporter": "python",
   "pygments_lexer": "ipython3",
   "version": "3.7.5"
  }
 },
 "nbformat": 4,
 "nbformat_minor": 4
}
