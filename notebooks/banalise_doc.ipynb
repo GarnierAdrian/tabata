{
 "cells": [
  {
   "cell_type": "markdown",
   "metadata": {},
   "source": [
    "# Banalisation de données\n",
    "Une fonction de banalisation permet d'extraire des données internes et de les convertir dans un format HDF5 avec des mesures banalisées."
   ]
  },
  {
   "cell_type": "code",
   "execution_count": 5,
   "metadata": {},
   "outputs": [],
   "source": [
    "# from importlib import reload\n",
    "import os\n",
    "from tabata import etdex  # Pour charger un itérateur sur des données.\n",
    "from tabata import banalise # Je ne sais pas commen simplifier ça !"
   ]
  },
  {
   "cell_type": "markdown",
   "metadata": {},
   "source": [
    "Je mets souvent une commande reload pour vérifier la mise au point de mes codes."
   ]
  },
  {
   "cell_type": "code",
   "execution_count": 6,
   "metadata": {},
   "outputs": [],
   "source": [
    "%reload_ext autoreload\n",
    "%autoreload 2"
   ]
  },
  {
   "cell_type": "markdown",
   "metadata": {},
   "source": [
    "### Fonction banalise()\n",
    "Cette fonction admet les arguments suivants :\n",
    "\n",
    "* _dfiterator_ est un itérateur qui distribue des DataFrames pandas.\n",
    "* _storename_ est le nom (chemin complet) du fichiers HDF5 de stockage.\n",
    "* _nbmax_ (optionnel) permet de limiter le nombre d'enregistrements à sauvegarder, None par défaut pour tout scanner.\n",
    "* _delay_ (optionnel) donne le délai retranché aux index.Par défaut il est fixé à 11 ans et 2 mois et 3 jours, 2 heures et 12 minutes.\n",
    "* _iqr_ (optionnel) est la valeur des inter-quantiles utilisés, par défaut iqr=0.25 soit [0.25,0.75].\n",
    "* _nanvalues_ (optionnel) spécifie les valeurs à remplacer par des NAN, par défaut nanvalues=[-999.0] pour être compatible avec la base MOISE. \n",
    "\n",
    "Cette fonction transforme les DataFrames avant de les recopier suivant la procédure suivante :\n",
    "* (1) Supprime les colonnes toujours NAN ou toujours constantes        (remplace aussi les valeurs -999 par des NAN).\n",
    "* (2) Recrée des unités propres.\n",
    "* (3) Calcule les maximums et minimums des interquantiles des données par unité.\n",
    "* (4) Par unité le facteur multiplicatif appliqué est la partie entière du max des interquantiles divisée par l'ordre de grandeur en base 10.\n",
    "        \n",
    "Crée aussi un fichier LOG contenant la date de banalisation et les opérations effectuées avec un facteur multiplicatif par unité et un décalage temporel global. La date de l'opération est concaténée entre parenthèse à la fin des noms des fichiers H5 et LOG."
   ]
  },
  {
   "cell_type": "markdown",
   "metadata": {},
   "source": [
    "Un fichier d'alias composé de labels suivi d'un alias banalisé peut être exploité s'il est fourni. Dans le cas contraire les labels initiaux sont conservés.\n",
    "\n",
    "Ce fichier sera concaténé à la fin du fichier de log."
   ]
  },
  {
   "cell_type": "code",
   "execution_count": 7,
   "metadata": {},
   "outputs": [
    {
     "name": "stdout",
     "output_type": "stream",
     "text": [
      "ARINCTIM00  \tTS          \n",
      "Correcte00  \tC00         \n",
      "COWL_FLO00  \tCOWL0       \n",
      "COWL_FLO01  \tCOWL1       \n",
      "CR25A55C02  \tCR25A55C02  \n",
      "CR25A55C15  \tCR25A55C15  \n",
      "CR25A55C32  \tCR25A55C32  \n",
      "CR26055C02  \tCR26055C02  \n",
      "CR26055C15  \tC15         \n",
      "CR26055C32  \tCR26055C32  \n",
      "CR26B55C14  \tCR26B55C14  \n",
      "CR26B55C29  \tC ...\n"
     ]
    }
   ],
   "source": [
    "dirbancs = os.path.expanduser('~/wrk/bancs')\n",
    "aliasfile = os.path.normpath(os.path.join(dirbancs,'extract/alias.txt'))\n",
    "if os.path.isfile(aliasfile):\n",
    "    with open(aliasfile,'r') as f:\n",
    "        txt = f.read()\n",
    "    print(txt[:300],'...')"
   ]
  },
  {
   "cell_type": "markdown",
   "metadata": {},
   "source": [
    "Un itérateur sur des DataFrames doit être fourni. Dans cet exemple on travaille sur un répertoire de fichiers ETDEX issus de MOISE.\n",
    "\n",
    "Un commentaire peut être rajouté en entête du fichier de Log qui rappelle le traitement effectué."
   ]
  },
  {
   "cell_type": "code",
   "execution_count": 8,
   "metadata": {},
   "outputs": [],
   "source": [
    "dirname = os.path.join(dirbancs,\"data/sam146\")\n",
    "iterator = etdex.dataiterator(dirname)\n",
    "\n",
    "bananame = os.path.join(dirbancs,'extract/banal.h5')\n",
    "banalise(iterator,bananame,nbmax=10,\n",
    "                   aliasfile=aliasfile,\n",
    "                   comment=\"SAM146, année2007\")"
   ]
  },
  {
   "cell_type": "code",
   "execution_count": 19,
   "metadata": {},
   "outputs": [
    {
     "data": {
      "text/plain": [
       "'H:\\\\/wrk/bancs'"
      ]
     },
     "execution_count": 19,
     "metadata": {},
     "output_type": "execute_result"
    }
   ],
   "source": [
    "dirbancs"
   ]
  },
  {
   "cell_type": "code",
   "execution_count": 20,
   "metadata": {
    "scrolled": true
   },
   "outputs": [
    {
     "name": "stdout",
     "output_type": "stream",
     "text": [
      "06/10/2020 \n",
      "14:19\n",
      " Le volume dans le lecteur H s'appelle Windows\n",
      " Le num‚ro de s‚rie du volume est 084B-F5B9\n",
      "\n",
      " R‚pertoire de H:\\wrk\\bancs\\extract\n",
      "\n",
      "06/10/2020  14:15         1ÿ269ÿ752 banal.h5\n",
      "06/10/2020  14:15             7ÿ174 banal.log\n",
      "               2 fichier(s)        1ÿ276ÿ926 octets\n",
      "               0 R‚p(s)  63ÿ200ÿ129ÿ024 octets libres\n"
     ]
    }
   ],
   "source": [
    "!date /T\n",
    "!time /T\n",
    "!dir H:\\wrk\\bancs\\extract\\banal*.*"
   ]
  },
  {
   "cell_type": "code",
   "execution_count": 21,
   "metadata": {},
   "outputs": [
    {
     "name": "stdout",
     "output_type": "stream",
     "text": [
      "SAM146, année2007"
     ]
    },
    {
     "name": "stderr",
     "output_type": "stream",
     "text": [
      "\n",
      "C:\\Users\\s068990\\Documents\\HOME\\wrk\\bancs\\extract\\banal.log\n",
      "\n",
      "\n"
     ]
    },
    {
     "name": "stdout",
     "output_type": "stream",
     "text": [
      "\n",
      "\n",
      "Date de la banalisation      : 2020-10-06\n",
      "Fichier de sauvegarde hdf5   : H:\\/wrk/bancs\\extract/banal.h5\n",
      "Fichier de log               : H:\\/wrk/bancs\\extract/banal.log\n",
      "\n",
      "Nombre d'enregistrements     : 10\n",
      "Nombre de labels             : 37\n",
      "Nb de labels non constants   : 37\n",
      "Nombre d'unités distinctes   : 9\n",
      "\n",
      "Facteurs de correction par label\n",
      "                           m : 0.50\n",
      "                           K : 3.07\n",
      "                           - : 1.92\n",
      "                         m/s : 0.56\n",
      "                      kg/cm2 : 3.00\n",
      "                        kg/s : 2.00\n",
      "                           s : 2.00\n",
      "                           V : 2.19\n",
      "                           C : 2.10\n",
      "Enregistrements :\n",
      "record_0    \t BCIAM_C1A__TR__DEV__d20070907_h124025__17\n",
      "record_1    \t BPOL_OATB__TR__DEV__d20070601_h121558__100\n",
      "record_2    \t BPOL_OATB__TR__DEV__d20070601_h124523__100\n",
      "record_3    \t BPOL_OATB__TR__DEV__d20070601_h124526__5\n",
      "record_4    \t BPOL_OATB__TR__DEV__d20070601_h170205__5\n",
      "record_5    \t BPOL_OATB__TR__DEV__d20070601_h175049__5\n",
      "record_6    \t BPOL_OATB__TR__DEV__d20070601_h175258__100\n",
      "record_7    \t BPOL_OATB__TR__DEV__d20070606_h122526__5\n",
      "record_8    \t BPOL_OATB__TR__DEV__d20070608_h173042__\n",
      "record_9    \t BPOL_OATB__TR__DEV__d20070608_h173151__\n",
      "\n",
      "Delay temporel retranché     : 4080 days, 2:12:00\n",
      "Enregistrements non utilisés : 0\n",
      "Mesures inutiles supprimées  : 18\n",
      "Nouveaux alias à revoir      : 0\n",
      "Alias :\n",
      "ARINCTIM00  \tTS          \n",
      "Correcte00  \tC00         \n",
      "COWL_FLO00  \tCOWL0       \n",
      "COWL_FLO01  \tCOWL1       \n",
      "CR25A55C02  \tCR25A55C02  \n",
      "CR25A55C15  \tCR25A55C15  \n",
      "CR25A55C32  \tCR25A55C32  \n",
      "CR26055C02  \tCR26055C02  \n",
      "CR26055C15  \tC15         \n",
      "CR26055C32  \tCR26055C32  \n",
      "CR26B55C14  \tCR26B55C14  \n",
      "CR26B55C29  \tCR26B55C29  \n",
      "CR26B55C59  \tCR26B55C59  \n",
      "CR27055C01  \tCR27055C01  \n",
      "CR27055C16  \tCR27055C16  \n",
      "CR27055C31  \tCR27055C31  \n",
      "CR28A55C16  \tCR28A55C16  \n",
      "CR28A55C30  \tCR28A55C30  \n",
      "CR28A55C60  \tCR28A55C60  \n",
      "CYRES_FW03  \tFW03        \n",
      "CYRES_N1    \tCN1         \n",
      "CYRES_N2    \tCN2         \n",
      "CYRES_SG00  \tSG00        \n",
      "DAI         \tAI          \n",
      "DPAI01      \tAI01        \n",
      "DPAI02      \tAI02        \n",
      "DPAI03      \tAI03        \n",
      "DPAI04      \tAI04        \n",
      "DPAI05      \tAI05        \n",
      "DPAI06      \tAI06        \n",
      "DPAI07      \tAI07        \n",
      "DPAI08      \tAI08        \n",
      "DPAI09      \tAI09        \n",
      "DPWI01      \tI01         \n",
      "DPWI02      \tI02         \n",
      "DPWI03      \tI03         \n",
      "DPWI04      \tI04         \n",
      "DPWI05      \tI05         \n",
      "DPWI06      \tI06         \n",
      "DPWI07      \tI07         \n",
      "DPWI08      \tI08         \n",
      "DPWI09      \tI09         \n",
      "DW_L275B    \tL275B       \n",
      "EOLSEL      \tEOL         \n",
      "EOLSELA     \tEOLA        \n",
      "EOLSELB     \tEOLB        \n",
      "FGFSA       \tFA          \n",
      "FMVDMD      \tFVD         \n",
      "FMVDMDA     \tFDA         \n",
      "FMVDMDB     \tFDB         \n",
      "FMVSEL      \tFMV         \n",
      "FMVSELB     \tFMVB        \n",
      "FNA         \tFNA         \n",
      "FNMXXX      \tFX          \n",
      "FNN004      \tFN4         \n",
      "FNN004Re00  \tFNN4        \n",
      "FNN005      \tFNN5        \n",
      "FNN006      \tFNN6        \n",
      "FNN007      \tFNN7        \n",
      "FT_HIGH_00  \tFTH00       \n",
      "FT_HIGH_01  \tFTH01       \n",
      "FT_LOW_B00  \tFTLB00      \n",
      "FT_LOW_B01  \tFTLB01      \n",
      "Fuel_SG     \tFSG0        \n",
      "Fuel_SG1    \tFSG1        \n",
      "Fuel_SG2    \tFSG2        \n",
      "H           \tH           \n",
      "HPTACCSEL   \tHPTA        \n",
      "HPTACCSELA  \tAPCA        \n",
      "HPTACCSELB  \tAPCB        \n",
      "HPTDMD      \tHPTD        \n",
      "HPTDMDB     \tHPTDB       \n",
      "LBL270B15   \tLBL270B15   \n",
      "LBL270B18   \tLBL270B18   \n",
      "LBL275B11   \tLBL275B11   \n",
      "LBL275B25   \tLBL275B25   \n",
      "LBL275B28   \tLBL275B28   \n",
      "LFMAIN1     \tLFM1        \n",
      "LFMAIN2     \tLFM2        \n",
      "PCN12R      \tPCN1R       \n",
      "PCN25R      \tPCN2R       \n",
      "Pi_V_05     \tPi_V_05     \n",
      "Pi_V_17     \tPi_V_17     \n",
      "Pi_V_23     \tPi_V_23     \n",
      "Pi_V_32     \tPi_V_32     \n",
      "Pi_V_35     \tPi_V_35     \n",
      "Pi_V_47     \tPi_V_47     \n",
      "Pi_V_50     \tPi_V_50     \n",
      "Pi_V_56     \tPi_V_56     \n",
      "Pi_V_AVG    \tPi_V        \n",
      "PLC_AIR300  \tAIR300      \n",
      "PLC_Appl01  \tAl01        \n",
      "PLC_Appl02  \tPLC_Appl02  \n",
      "PLC_FUEL00  \tFUEL0       \n",
      "PLC_FUEL01  \tFUEL1       \n",
      "PLC_FUEL02  \tFUEL2       \n",
      "PLC_METE00  \tM0          \n",
      "PLC_METE01  \tM1          \n",
      "PLC_METE03  \tM3          \n",
      "PLC_METE04  \tM4          \n",
      "PLC_METE05  \tM5          \n",
      "PLC_METE06  \tM6          \n",
      "PLC_RH      \tRH          \n",
      "PLC_WIND00  \tW0          \n",
      "PRearpl03   \tPRl03       \n",
      "PS25027YEA  \tPS25        \n",
      "RHum        \tHum         \n",
      "SGInput     \tSGI         \n",
      "specific00  \tSP0         \n",
      "TAI         \tT           \n",
      "TBVDMD      \tTBVD        \n",
      "TBVDMDB     \tTBVDB       \n",
      "TBVSEL      \tTBV         \n",
      "TBVSELB     \tTBVB        \n",
      "TIMEST9999  \tTIME        \n",
      "TOP1        \tX1          \n",
      "VBVSEL      \tBV          \n",
      "VBVSELA     \tBVA         \n",
      "VBVSELB     \tBVB         \n",
      "VE          \tV           \n",
      "VHB1VOL     \tV2          \n",
      "VHB1VOLV    \tVHB1V       \n",
      "VRTRFVOL    \tV3          \n",
      "VRTRFVOL00  \tTRFV0       \n",
      "VRTRFVOLV   \tVRTRV       \n",
      "VSVSEL      \tSV          \n",
      "VSVSELA     \tSVA         \n",
      "VSVSELB     \tSVB         \n",
      "VVB1VOL     \tVB          \n",
      "VVB1VOL_VM  \tVB1V        \n",
      "VVB1VOLV    \tVVB1V       \n",
      "VVB1X15VOL  \tVVB2V       \n",
      "VVB3VOLV    \tVVB3V       \n",
      "VVFFCCVO00  \tVFFC0       \n",
      "VVFFCCVOL   \tV4          \n",
      "VVFFCCVOLV  \tVVFFV       \n",
      "VWIND       \tWD          \n",
      "WBECS27     \tBC27        \n",
      "WBECS30     \tBC30        \n",
      "WBLEED1     \tWB1         \n",
      "WBLEED2     \tWB2         \n",
      "WF1         \tWF1         \n",
      "WF125A      \tWF125A      \n",
      "WF125A_R    \tWF125A_R    \n",
      "WF125B      \tWF125B      \n",
      "WF125B_R    \tWF125B_R    \n",
      "WF2         \tWF2         \n",
      "WFE         \tWFE         \n",
      "WFE1        \tWFE1        \n",
      "WFE2        \tWFE2        \n",
      "WFEPD       \tWFEPD       \n",
      "Wind_Axial  \tWA          \n",
      "Wind_Cross  \tWC          \n",
      "XN12        \tXN12        \n",
      "XN12R       \tN1R         \n",
      "XN25        \tXN25        \n",
      "YACONSJEU   \tJ2          \n",
      "YACONSVANN  \tCV          \n",
      "YAEGT       \tEGT         \n",
      "YAFMVDMD    \tFMVD        \n",
      "YAJEUTHP    \tJ1          \n",
      "YAPS3       \tPS3         \n",
      "YARPOSVANN  \tV1          \n",
      "YASANTE     \tST          \n",
      "YAT25       \tT25         \n",
      "YAT25NC     \tT25NC       \n",
      "YAT27       \tT27         \n",
      "YAT3        \tT3          \n",
      "YAT41       \tT41         \n",
      "YAT50       \tT50         \n",
      "YATCARTRAN  \tCA1         \n",
      "YATCASE1    \tTC1         \n",
      "YATCASE1X   \tTC1X        \n",
      "YATCASE2    \tTC2         \n",
      "YATCASE2X   \tTC2X        \n",
      "YATCASTANC  \tAC1         \n",
      "YATREPAUBE  \tAB1         \n",
      "YATREPEA    \tRP1         \n",
      "YATREPROT   \tRT1         \n",
      "YAVBV       \tVBV0        \n",
      "YAVSV       \tVSV0        \n",
      "YAVSVCS     \tVSV1        \n",
      "YAVSVCSTAB  \tVSV2        \n",
      "YAVSVCTRAN  \tVSV3        \n",
      "YAW25       \tW25         \n",
      "YBDTAMB     \tDTAMB       \n",
      "YBFMVDMD    \tFFD         \n",
      "YBIGNIMODE  \tBGM         \n",
      "YBPAMB      \tPAMB        \n",
      "YBPLA       \tPLA         \n",
      "YBPS3MIN    \tPS3M        \n",
      "YBSTATUS1   \tST1         \n",
      "YBT12       \tT12         \n",
      "YBTCARB     \tTCA         \n",
      "YBWALL      \tWBA         \n",
      "YBWDEM      \tWBD         \n",
      "YBWF36      \tFF          \n",
      "YBWF36CS    \tFFC         \n",
      "YBWF36MM    \tFFM         \n",
      "YBWQPR      \tWQ          \n",
      "YBXN12      \tBN1         \n",
      "YBXN12CS    \tBN1C        \n",
      "YBXN25      \tBN2         \n",
      "YBXN25ACC   \tN2A         \n",
      "YBXN25DEC   \tN2D         \n",
      "YBXN25MIN   \tBN2M        \n",
      "YAVBVCS     \tYAVBVCS     \n",
      "YAWF36CS    \tYAWF36CS    \n",
      "YBWFBUTMAX  \tYBWFBUTMAX  \n",
      "YBWFBUTMIN  \tYBWFBUTMIN  \n",
      "DW_L270A    \tDW_L270A    \n",
      "DW_L270B    \tDW_L270B    \n"
     ]
    }
   ],
   "source": [
    "!type C:\\Users\\s068990\\Documents\\HOME\\wrk\\bancs\\extract\\banal*.log"
   ]
  },
  {
   "cell_type": "markdown",
   "metadata": {},
   "source": [
    "_Jérôme Lacaille (YXE)_"
   ]
  }
 ],
 "metadata": {
  "kernelspec": {
   "display_name": "Python 3",
   "language": "python",
   "name": "python3"
  },
  "language_info": {
   "codemirror_mode": {
    "name": "ipython",
    "version": 3
   },
   "file_extension": ".py",
   "mimetype": "text/x-python",
   "name": "python",
   "nbconvert_exporter": "python",
   "pygments_lexer": "ipython3",
   "version": "3.7.5"
  }
 },
 "nbformat": 4,
 "nbformat_minor": 4
}
