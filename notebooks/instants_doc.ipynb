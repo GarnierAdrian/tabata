{
 "cells": [
  {
   "cell_type": "markdown",
   "metadata": {},
   "source": [
    "# Détection d'instants\n",
    "Quand on dispose d'un signal temporel on cherche souvent à en analyser une partie. Pour cela il faut détecter un instant particulier ou délimiter des bornes (deux instants). A chaque fois qu'un instant doit être choisi, les analystes développent un code spécifique qui a toutes les chance d'être difficile à maintenir car des éléments inatendus peuvent survenir avec l'arrivée de nouveaux signaux.\n",
    "Hors dans la majorité des cas l'instant qui intéresse un expert est clairement visible sur l'un des signaux temporels univarié, éventuellement la conjonction de deux signaux, mais rarement plus. Par ailleurs, sur le signal en question cette instant est facilement identifiable : il est proche d'une bosse ou d'un creu et en fonction de l'échelle d'observation on doit facilement le détecter puisque c'est un élément essentiellement visuel.\n",
    "\n",
    "Ce module utilise un Opset en entrée, construit une interface permettant l'identification graphique par un expert de l'instant choisi sur quelques signaux.\n",
    "Ensuite un algorithme fabrique des indicateurs basés sur la détection de creux et de bosses et extrait des points au hasard sur les courbes visualisées par l'expert. Chacun de ces points est un vecteur de grande dimension dont les coordonnées correspondent à des indicateurs de position (numéro et position des creux et bosses) à différentes échelles.\n",
    "L'algorithme essaye de détecter si les points tirés sont à gauche (-1) ou à droite (+1) de l'instant sélectionné.\n",
    "\n",
    "Finalement un indicateur de probabilité de présence de l'instant est construit et une détection est faite avec plus ou moins de confiance.\n",
    "\n",
    "L'expert peut tester son détecteur et éventuellement le corriger en ajoutant des identifications manuelles et en relançant l'apprentissage. "
   ]
  },
  {
   "cell_type": "code",
   "execution_count": 1,
   "metadata": {},
   "outputs": [],
   "source": [
    "from importlib import reload\n",
    "\n",
    "import numpy as np\n",
    "from scipy import signal\n",
    "import pandas as pd\n",
    "import tabata.instants as instants"
   ]
  },
  {
   "cell_type": "markdown",
   "metadata": {},
   "source": [
    "Pour des raisons de debuggage, je recharge le module."
   ]
  },
  {
   "cell_type": "code",
   "execution_count": 2,
   "metadata": {},
   "outputs": [
    {
     "data": {
      "text/plain": [
       "<module 'tabata.instants' from 'H:\\\\wrk\\\\_jlpath\\\\tabata\\\\instants.py'>"
      ]
     },
     "execution_count": 2,
     "metadata": {},
     "output_type": "execute_result"
    }
   ],
   "source": [
    "reload(instants)"
   ]
  },
  {
   "cell_type": "markdown",
   "metadata": {},
   "source": [
    "## Création du sélecteur d'instants.\n",
    "On utilise les données retraitées depuis le notebook _opset_doc_. Le Selector est un Opset diposant de fonctions de sélection dans son interface."
   ]
  },
  {
   "cell_type": "code",
   "execution_count": 3,
   "metadata": {},
   "outputs": [],
   "source": [
    "fieldname = 'data/out/AFL1EB_C.h5'\n",
    "S = instants.Selector(fieldname)"
   ]
  },
  {
   "cell_type": "markdown",
   "metadata": {},
   "source": [
    "On affiche les observations (comme pour Opset), mais la différence est dans l'utilisation du clic de souris. En cliquant sur la courbe on peut sélectionner un instant."
   ]
  },
  {
   "cell_type": "code",
   "execution_count": 4,
   "metadata": {},
   "outputs": [
    {
     "data": {
      "application/vnd.jupyter.widget-view+json": {
       "model_id": "9040322fbbf84f55b5b201ad73044888",
       "version_major": 2,
       "version_minor": 0
      },
      "text/plain": [
       "VBox(children=(HBox(children=(Dropdown(description='Variable :', options=('ALT[m]', 'Tisa[K]', 'TAS[m/s]', 'Vz…"
      ]
     },
     "metadata": {},
     "output_type": "display_data"
    }
   ],
   "source": [
    "S.plot(colname=\"ALT\")"
   ]
  },
  {
   "cell_type": "markdown",
   "metadata": {},
   "source": [
    "Les points selectionnés sont stockés dans la variable `selected` et les signaux observés sont dans `viewed`. On a cette seconde variable car un expert qui voit un signal mais ne sélectionne pas d'instant donne une information qu'il est aussi possible d'exploiter."
   ]
  },
  {
   "cell_type": "code",
   "execution_count": 5,
   "metadata": {},
   "outputs": [
    {
     "name": "stdout",
     "output_type": "stream",
     "text": [
      "Instants selectionnés :\n",
      " {}\n",
      "Signaux observés :\n",
      " {0}\n"
     ]
    }
   ],
   "source": [
    "print('Instants selectionnés :\\n', S.selected)\n",
    "print('Signaux observés :\\n', S.viewed)"
   ]
  },
  {
   "cell_type": "markdown",
   "metadata": {},
   "source": [
    "Pour des raisons de test nous supposerons que les instants et observations ont été sauvegardées."
   ]
  },
  {
   "cell_type": "code",
   "execution_count": 6,
   "metadata": {},
   "outputs": [],
   "source": [
    "S.selected = \\\n",
    "{0: ('ALT[m]', 1960),\n",
    " 1: ('ALT[m]', 1821),\n",
    " 3: ('ALT[m]', 1732),\n",
    " 4: ('ALT[m]', 1600),\n",
    " 5: ('ALT[m]', 1391),\n",
    " 6: ('ALT[m]', 1736),\n",
    " 7: ('ALT[m]', 1615)}\n",
    "\n",
    "S.viewed = {0, 1, 2, 3, 4, 5, 6, 7}"
   ]
  },
  {
   "cell_type": "markdown",
   "metadata": {},
   "source": [
    "Pour les instants, la sauvegarde est un dictionnaire indexé par le numéro d'enregistrement (signal) avec pour valeur le couple formé de la variable visualisée (en dernier) et de l'instant détecté."
   ]
  },
  {
   "cell_type": "markdown",
   "metadata": {},
   "source": [
    "## Création des indicateurs.\n",
    "Les indicateurs sont des compteurs de bosses et de creux. Une bosse ou un creu est détecté par le passage par zéro de la drivée du signal. On utilise des échelles différentes pour lisser le signal et on regardera en plus des bosses et des creux les points d'inflexion qui sont les bosses et creux de la dérivée.\n",
    "\n",
    "L'algorithme de lissage employé est un filtre de Savitsky-Golay : un filtre polynômial que l'on utilise avec des polynômes de degré 2. On fixe une largeur de filtre et sur chaque fenêtre on essaye estime la courbe par une parabole, le résultat du filtre est la valeur au centre de la fenêtre. L'utilisation d'un polynôme de degré deux évite la surparamétrisation et autorise le calcul des dérivées d'ordre 1 et 2."
   ]
  },
  {
   "cell_type": "code",
   "execution_count": 7,
   "metadata": {},
   "outputs": [],
   "source": [
    "dsi = S.make_indicators()"
   ]
  },
  {
   "cell_type": "markdown",
   "metadata": {},
   "source": [
    "La méthode `make indicator()` renvoie un nouveau Selector qui a ses propriétés `selected` et `viewed` vides, mais pas sa propriété `computed`. Cette dernière affiche les points sélectionnés précédemment par des traits pointillés en bleu. Ils ne sont pas modifiable contrairement aux sélection violettes."
   ]
  },
  {
   "cell_type": "code",
   "execution_count": 8,
   "metadata": {},
   "outputs": [
    {
     "data": {
      "application/vnd.jupyter.widget-view+json": {
       "model_id": "920b3a05b49a4218aafaf7e6672c5eb9",
       "version_major": 2,
       "version_minor": 0
      },
      "text/plain": [
       "VBox(children=(HBox(children=(Dropdown(description='Variable :', options=('LEN[pts]', 'REV[pts]', 'PERCENT[%]'…"
      ]
     },
     "metadata": {},
     "output_type": "display_data"
    }
   ],
   "source": [
    "dsi.plot()"
   ]
  },
  {
   "cell_type": "markdown",
   "metadata": {},
   "source": [
    "En parcourant cet Opset, vous remarquerez que seules les opérations sélectionnées sont enregistrées. D'autre part, en regardant la liste des variables on voit des noms un peu originaux :\n",
    "\n",
    "* LEN correspond à la position absolue dans le signal ;\n",
    "* REV est la position absolue inverse ;\n",
    "* PERCENT est la position relative par rapport à la longuer du signal.\n",
    "\n",
    "Les unités _pts_ et _%_ représentent le numéro de point et le pourcentage.\n",
    "\n",
    "Les autres variables sont toutes de nom correspondant à la variable originale sélectionnée et l'unité ce code ainsi : _w#o#u#_ ou _w#o#d#_.\n",
    "\n",
    "* _w_ correspond à la demi-largeur du filtre ;\n",
    "* _o_ est l'ordre de dérivation (1 ou 2) ;\n",
    "* _u_ et _d_ représentent un passage par zéro en montant (up) ou en descendant (down).\n",
    "\n",
    "Ces valeurs sont issues du paramétrage par défaut de la méthode :\n",
    "\n",
    "     def make_indicators(self, \n",
    "                        filename=None,\n",
    "                        range_width = None,\n",
    "                        range_sigma = None,\n",
    "                        max_order=2):\n",
    "                        \n",
    "Le nom du fichier par défaut sera le même que celui du Selector (même répertoire) avec le préfixe '_I'.\n",
    "\n",
    "* `range_width` est un itérateur donnant les demi-largeurs qui correspond aux dix premier centièmes de la longueur du plus petit signal (10 étant la plus petite valeur acceptable). Pour un signal de 1000 points on obtient `range(10,101,10)`.\n",
    "* `range_sigma` est un itérateur des seuil permettant de détecter les passages par zéro, ce sont des multiples de l'écart-type local du signal lissé. Si le seuil est positif or regarde les passage par zéro en montant et s'il est négatif, les passages par zéro en descendant. Par défaut on prend `range(5,26,10)` et son opposé soit -25 -15 -5 5 15 25.\n",
    "* `max_order` est l'ordre maximal de dérivation. Le degré du polynome estimé est égal à 2 par défaut sauf si on recherche des indicateurs d'ordre plus élevé, auquel cas le degré du polynome sera aussi augmenté."
   ]
  },
  {
   "cell_type": "code",
   "execution_count": null,
   "metadata": {},
   "outputs": [],
   "source": []
  }
 ],
 "metadata": {
  "kernelspec": {
   "display_name": "Python 3",
   "language": "python",
   "name": "python3"
  },
  "language_info": {
   "codemirror_mode": {
    "name": "ipython",
    "version": 3
   },
   "file_extension": ".py",
   "mimetype": "text/x-python",
   "name": "python",
   "nbconvert_exporter": "python",
   "pygments_lexer": "ipython3",
   "version": "3.7.5"
  }
 },
 "nbformat": 4,
 "nbformat_minor": 4
}
