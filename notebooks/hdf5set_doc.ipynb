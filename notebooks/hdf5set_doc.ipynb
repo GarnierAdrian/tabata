{
 "cells": [
  {
   "cell_type": "markdown",
   "metadata": {},
   "source": [
    "# Gestion des listes de signaux stockés au format HDF5\n",
    "\"hdf5set\" contient essentiellement une classe `Selector` permettant de manipuler et d'accéder facilement à des signaux stockés dans un fichier HDF5.\n",
    "\n",
    "Chaque signal est un pandas.DataFrame `df` dont le nom est tocké dans `df.index.name`.\n",
    "Ces noms sont indépendants des noms d'enregistrement dans le fichier mais il est préférable de conserver les mêmes.\n",
    "\n",
    "Il est préférable d'avoir stocké ainsi des signaux ayant les mêmes noms de colonnes. Les unités de chaque colonne si elles existent sont stockées entre crochets après le nom de la variable.\n",
    "\n",
    "Une telle liste sera appelée \"liste d'opérations\" ou OPSET."
   ]
  },
  {
   "cell_type": "code",
   "execution_count": 1,
   "metadata": {},
   "outputs": [],
   "source": [
    "from importlib import reload\n",
    "import numpy as np\n",
    "import pandas as pd\n",
    "import tabata.hdf5set as hs"
   ]
  },
  {
   "cell_type": "markdown",
   "metadata": {},
   "source": [
    "## 1/ Visualisation des données.\n",
    "\n",
    "La classe `Selector` permet d'accéder aux signaux, la fonction `Selector.plot()` offre une interface graphique sympatique pour naviguer au sein de la liste."
   ]
  },
  {
   "cell_type": "code",
   "execution_count": 19,
   "metadata": {},
   "outputs": [],
   "source": [
    "reload(hs)\n",
    "storename = \"data/AFL1EB.h5\"\n",
    "S = hs.Selector(storename)"
   ]
  },
  {
   "cell_type": "code",
   "execution_count": 21,
   "metadata": {},
   "outputs": [
    {
     "data": {
      "application/vnd.jupyter.widget-view+json": {
       "model_id": "0bbc26290fee4fd68395c6a1db6f0b7d",
       "version_major": 2,
       "version_minor": 0
      },
      "text/plain": [
       "VBox(children=(HBox(children=(Dropdown(description='Variable :', options=('ALT[m]', 'Tisa[K]', 'TAS[m/s]', 'Vz…"
      ]
     },
     "metadata": {},
     "output_type": "display_data"
    }
   ],
   "source": [
    "S.plot2()"
   ]
  },
  {
   "cell_type": "code",
   "execution_count": 18,
   "metadata": {},
   "outputs": [
    {
     "data": {
      "text/plain": [
       "{}"
      ]
     },
     "execution_count": 18,
     "metadata": {},
     "output_type": "execute_result"
    }
   ],
   "source": [
    "S.sel_instants"
   ]
  },
  {
   "cell_type": "markdown",
   "metadata": {},
   "source": [
    "Les données de ce jeu d'exemple représentent des mesures simulées de vols d'un avion.\n",
    "    \n",
    "* ALT[m] : l'altitude de l'avion en mètres.\n",
    "* Tisa[K] : la température standard en Kelvin.\n",
    "* TAS[m/s] : La vitesse air de l'avion (Total Air Speed) en mètre par seconde.\n",
    "* Vz[m/s] : la vitesse de montée en mètre par seconde.\n",
    "* Masse[kg] : la masse de l'avion en kilogramme.\n",
    "* F[N] : la poussée en Newton."
   ]
  },
  {
   "cell_type": "markdown",
   "metadata": {},
   "source": [
    "L'enregistrement courant peut être récupéré facilement."
   ]
  },
  {
   "cell_type": "code",
   "execution_count": null,
   "metadata": {},
   "outputs": [],
   "source": [
    "S.df"
   ]
  },
  {
   "cell_type": "markdown",
   "metadata": {},
   "source": [
    "On peut directement demander l'affichage spécifique d'un des signaux."
   ]
  },
  {
   "cell_type": "code",
   "execution_count": null,
   "metadata": {},
   "outputs": [],
   "source": [
    "S.plot(sigpos=21,colname=\"Vz[m/s]\")"
   ]
  },
  {
   "cell_type": "markdown",
   "metadata": {},
   "source": [
    "Cette demande peut aussi se faire dès l'instanciation."
   ]
  },
  {
   "cell_type": "code",
   "execution_count": null,
   "metadata": {},
   "outputs": [],
   "source": [
    "S = hs.Selector(storename,sigpos=5,colname=\"TAS[m/s]\")\n",
    "S.plot()"
   ]
  },
  {
   "cell_type": "markdown",
   "metadata": {},
   "source": [
    "## Itérations\n",
    "Il est possible d'itérer sur la liste de signaux. L'itérateur admet deux paramètres optionnels:  `first` et `last`. Attention l'indexation commence à 1.\n",
    "\n",
    "L'itération met à jour le signal courant du sélecteur."
   ]
  },
  {
   "cell_type": "code",
   "execution_count": null,
   "metadata": {},
   "outputs": [],
   "source": [
    "n=0\n",
    "for df in S.iterator(first=3,last=4):\n",
    "    t0 = df.index[0]\n",
    "    print(\"{:2d} : {:10s} --> {}\".format(n,df.index.name,t0))\n",
    "    n = n+1\n",
    "    \n",
    "print('Boucle n°1 :',S.df.index.name)\n",
    "\n",
    "n=0\n",
    "for df in S.iterator(first=3,last=8):\n",
    "    t0 = df.index[0]\n",
    "    print(\"{:2d} : {:10s}  --> {}\".format(n,df.index.name,t0))\n",
    "    n = n+1\n",
    "    \n",
    "print('Boucle n°1 :',S.df.index.name)"
   ]
  },
  {
   "cell_type": "markdown",
   "metadata": {},
   "source": [
    "## Création d'un nouvel opset (liste d'opération)\n",
    "À partir d'une première liste d'opérations il est possible d'en créer une nouvelle assez facilement à l'aide du sélecteur.\n",
    "\n",
    "Dans notre exemple on suppose qu'il existe des vols mal enregistrés, on va les supprimer, par ailleurs il y a un problème de changement de date qui a abimé l'index temporel (à la seconde ici) ce que l'on va corriger en créant un jeu de données propres."
   ]
  },
  {
   "cell_type": "code",
   "execution_count": null,
   "metadata": {},
   "outputs": [],
   "source": [
    "reload(hs)\n",
    "S = hs.Selector(storename)"
   ]
  },
  {
   "cell_type": "markdown",
   "metadata": {},
   "source": [
    "La fonction `put(df,record)` permet une modification rapide d'un enregistrement. Par défaut, si aucun nom d'enregistrement n'est donné en second paramètre, on regarde si `df.index.name` existe. De façon équivalente, si l'index n'est pas nommé mais qu'un nom d'enregistrement sera passé, la fonction `put(df,record)` rajoutera le nom d'index. "
   ]
  },
  {
   "cell_type": "code",
   "execution_count": null,
   "metadata": {},
   "outputs": [],
   "source": [
    "# Construction d'un hdf5set sans données anormales.\n",
    "cleanstore = \"data/AFL1EB_C.h5\"\n",
    "Sc = hs.Selector(cleanstore)\n",
    "\n",
    "for df in S.iterator():\n",
    "    if max(df[\"F[N]\"])>0: # Les données ont été bien enregistrées.\n",
    "        x = df.index\n",
    "        t = (x-x[0]).total_seconds()\n",
    "        dt = np.diff(t)\n",
    "        i = np.argwhere(dt != dt[1]) # on détecte un problème.\n",
    "        if len(i)>0:\n",
    "            name = df.index.name\n",
    "            df.index = pd.date_range(x[0],periods=len(df),freq=x[1]-x[0]) # détruit le nom\n",
    "            df.index.name = name # Ne pas oublier de récupérer le nom.\n",
    "            Sc.put(df) # Ici on aurait pu mettre name."
   ]
  },
  {
   "cell_type": "markdown",
   "metadata": {},
   "source": [
    "La fonction `current_record()` est un racourci pour obtenir le nom de l'enregistrement courant."
   ]
  },
  {
   "cell_type": "code",
   "execution_count": null,
   "metadata": {},
   "outputs": [],
   "source": [
    "for df in Sc.iterator(1,4):\n",
    "    print(Sc.current_record(), ':', df.index.name)"
   ]
  },
  {
   "cell_type": "markdown",
   "metadata": {},
   "source": [
    "## Modification du dataset\n",
    "Dans une itération, vu que l'enregistrement courrant est celui qui est renvoyé, si on ne précise pas de nouveau nom d'enregistrement, c'est l'enregistrement courant qui est modifié par `put()`.\n",
    "\n",
    "Une fonction intéressante de la fonction `plot` est la possibilité d'afficher en surimpression une partie du signal. Pour cela il suffit de rajouter une variable booléenne aux signaux qui indique quelles partie du signal identifier.\n",
    "\n",
    "Dans cet exemple nous essayons d'extraire la croisière."
   ]
  },
  {
   "cell_type": "code",
   "execution_count": null,
   "metadata": {},
   "outputs": [],
   "source": [
    "for df in Sc.iterator():\n",
    "    mx = max(df[\"ALT[m]\"])\n",
    "    df[\"CR\"] = (df[\"ALT[m]\"]>mx-2000) & (abs(df[\"Vz[m/s]\"])<1)\n",
    "    Sc.put(df)"
   ]
  },
  {
   "cell_type": "code",
   "execution_count": null,
   "metadata": {},
   "outputs": [],
   "source": [
    "reload(hs)\n",
    "Sc = hs.Selector(cleanstore)"
   ]
  },
  {
   "cell_type": "code",
   "execution_count": null,
   "metadata": {},
   "outputs": [],
   "source": [
    "Sc.plot(\"CR\")"
   ]
  },
  {
   "cell_type": "markdown",
   "metadata": {},
   "source": [
    "### Quelques éléments techniques de la fonction `plot`.\n",
    "\n",
    "#### Gestion des signaux multivariés\n",
    "La classe `Selector` permet de gérer des données stockées sous la forme d'une liste d'observations temporelles. Chaque observation est un signal multivarié indexé par le temps. Cette liste doit être stockée dans un fichier au format HDF5 où chaque enregistrement est une observations.\n",
    "\n",
    "* Les observations sont lues dans l'ordre alphabétique, par un itérateur `Ìterator`.\n",
    "* Chaque signal (observation) est synchrones : toutes les colonnes ont la même longuer et le signal est stocké sous la forme d'un DataFrame pandas (`df`).\n",
    "* Le nom du signal est stocké dans le nom de l'index (`df.index.name`), ce qui permet de nommer les enregistrements indépendamment de leur nom.\n",
    "* Le nom de chaque colonne correspond au nom de la variable suivi entre crochets de son unité.\n",
    "\n",
    "#### Affichage des données.\n",
    "La fonction `Selector.plot()` sert à afficher les données de manière interactive à laide de Plotly au sein d'un notebook Python. Pour cela l'import du package hdf5set exécute la fonction `init_notebook_mode` de Plotly permettant d'interagir au sein du notebook à l'aide de `iplot()`.\n",
    "\n",
    "Pour naviguer entre les signaux, le Selector utilise des gadgets (boutons, scrollbar, menu) pour passer d'un enregistrement à un autre. Ces gadgets sont issus du packae ipywidgets qui est compatible avec Plotly. Le code de la fonction `Selector.plot()` est un exemple ssez parlant de l'exploitation de gadgets interactifs au sein d'un notebook Jupyter.\n",
    "\n",
    "* Un menu permet de sélectionner une colonne à afficher.\n",
    "* Deux boutons (Previous et Next) passent d'un signal au suivant dans l'ordre des enregistrements.\n",
    "* Une scrollbar verticale sur la droite rappelle l'enregistrement en cours de visualisation et permet aussi de se déplacer aléatoirement entre les enregistrements.\n",
    "\n",
    "La liste ordonnée des enregistrements est sauvegardée dans une variables `.records`, le signal en cours d'affichage est stocké dans `.sigpos` (en commençant par le n°1), et le nom de la variable à afficher est conservé dans `.colname`.\n",
    "\n",
    "#### Fonctionnement de l'interactivité\n",
    "L'interactivité est donnée par l'appel\n",
    "\n",
    "    out = widgets.interactive(update_plot, colname=wd, sigpos=ws)\n",
    "  \n",
    "`wd` est un pointeur vers le menu Dropdown contenat la liste des variables du signal en cours d'affichage et `ws` un pointeur vers la scrollbar.\n",
    "\n",
    "       wd = widgets.Dropdown(options=df.columns, description=\"Variable :\")\n",
    "       ws = widgets.IntSlider(value=1, min=1, max=nbmax, step=-1,\n",
    "                               orientation='vertical',\n",
    "                               description='Record',\n",
    "                               layout=widgets.Layout(height='400px'))\n",
    "                               \n",
    "Cette dernière est en mode 'vertical' et sa hauteur est fixée à 400 pixels. Le nombre maximum d'enregistrements a été stocké dans la variable `nbmax`. La fonction `interactive` lie le contenu des gadgets au variables locales `colanme` et `sigpos`qui sont passées à la fonction locale `update_plot()` qui fait le travail d'affichage en mettant à jour les éléments définis par le premier affichage initila à l'apple de `.plot()`.\n",
    "\n",
    "Si la scrollbar apparait sur la droite de l'affichage c'est parce que l'on a juxtaposé deux HBox dans une VBox que l'on revoie comme retour de `.plot()` :\n",
    "\n",
    "        boxes = widgets.VBox([widgets.HBox([wd, wbp, wbn]), widgets.HBox([\n",
    "            f, ws])])\n",
    "        return boxes\n",
    "\n",
    "La première HBox contient le menu et les deux boutons, et juste en dessous nous plaçons une seconde Hbox qui contient d'abbord la dfigure `f` créée initialement et à sa droite la scrollbar verticale.\n",
    "\n",
    "    f = go.FigureWidget(data, layout)\n",
    "    \n",
    "L'interaction des boutons est assez simple : on le lie à une fonction callback locale `wb_on_click()` que l'on associe à chaque widget par l'appel de `.on_click()`. En fait cette fonction se contente de modifier la valeur de la scrollbar ce qui entrainera automatiquement par interactivité une modification de l'afficahe comme si on avait directement cliqué sur la scrollbar.\n",
    "\n",
    "#### Mise en évidence d'une partie des données\n",
    "Le Selector bénéficie de deux fonction d'affichage supplémentaire. La première consiste à mettre en évidence par un coloriage en rouge une partie du signal.\n",
    "Pour cela il faut qu'une variable booléenne soit présente dans le signal multivarié comme une colonne particulière. Le nom de cette variable peut être passé en argument `phase`de `.plot(phase)` et les points 'True' de cette 'phase' seront affichés en rouge.\n",
    "\n",
    "#### Sélection d'instants\n",
    "La seconde fonctionnalité originale consiste en la possibilité de sélectionner des instant en cliquant sur la courbe affichée. Une barre verticale va alors apparaitre pour mettre en évidence ces instants graphiquement. On peut sélectionner un seul instant par signal, mais on peut le faire à partir de n'importe quelle variable.\n",
    "La liste des couples (variable, instant) est stockée dans la variable `sel_instants` du Selector et peut être récupérée par un simple appel.\n",
    "\n",
    "    S = Selector.plot()\n",
    "    instants = S.sel_instants\n",
    "    \n",
    "Les signaux observés lors de la sélection peuvent être facilement identifiés par :\n",
    "\n",
    "    op = S.op_viewed\n",
    "    \n",
    "L'interactivité de la sélection d'instant est gérée par la fonction callbck locale `selection_fn` qui est ensuite liée à la trace de la courbe bleue par un appel à `.on_click()`.\n",
    "\n",
    "Les enregistrements vus et isntants stockés peuvent être supprimés par la fonction `clean_selection()`."
   ]
  },
  {
   "cell_type": "code",
   "execution_count": null,
   "metadata": {},
   "outputs": [],
   "source": [
    "Sc.plot()"
   ]
  },
  {
   "cell_type": "code",
   "execution_count": null,
   "metadata": {},
   "outputs": [],
   "source": [
    "Sc.sel_instants"
   ]
  },
  {
   "cell_type": "code",
   "execution_count": null,
   "metadata": {},
   "outputs": [],
   "source": [
    "Sc.op_viewed"
   ]
  },
  {
   "cell_type": "code",
   "execution_count": null,
   "metadata": {},
   "outputs": [],
   "source": []
  }
 ],
 "metadata": {
  "kernelspec": {
   "display_name": "Python 3",
   "language": "python",
   "name": "python3"
  },
  "language_info": {
   "codemirror_mode": {
    "name": "ipython",
    "version": 3
   },
   "file_extension": ".py",
   "mimetype": "text/x-python",
   "name": "python",
   "nbconvert_exporter": "python",
   "pygments_lexer": "ipython3",
   "version": "3.7.5"
  }
 },
 "nbformat": 4,
 "nbformat_minor": 4
}
